{
 "cells": [
  {
   "cell_type": "code",
   "execution_count": 1,
   "metadata": {},
   "outputs": [],
   "source": [
    "import mdtraj as md"
   ]
  },
  {
   "cell_type": "code",
   "execution_count": 2,
   "metadata": {},
   "outputs": [],
   "source": [
    "# reading the polymer membrane trajectory\n",
    "pa = md.load('traj.xtc', top='conf.gro')"
   ]
  },
  {
   "cell_type": "code",
   "execution_count": 3,
   "metadata": {},
   "outputs": [
    {
     "name": "stdout",
     "output_type": "stream",
     "text": [
      "<mdtraj.Trajectory with 405 frames, 148650 atoms, 37808 residues, and unitcells>\n"
     ]
    }
   ],
   "source": [
    "print(pa)"
   ]
  },
  {
   "cell_type": "code",
   "execution_count": 4,
   "metadata": {},
   "outputs": [
    {
     "name": "stdout",
     "output_type": "stream",
     "text": [
      "<mdtraj.Trajectory with 9 frames, 148650 atoms, 37808 residues, and unitcells>\n"
     ]
    }
   ],
   "source": [
    "# First 9 Frames\n",
    "print(pa[1:10])"
   ]
  },
  {
   "cell_type": "code",
   "execution_count": 5,
   "metadata": {},
   "outputs": [
    {
     "data": {
      "text/plain": [
       "<mdtraj.Trajectory with 1 frames, 148650 atoms, 37808 residues, and unitcells at 0x1f6cb6f37c8>"
      ]
     },
     "execution_count": 5,
     "metadata": {},
     "output_type": "execute_result"
    }
   ],
   "source": [
    "# Last Trajectory\n",
    "last = pa[-1]\n",
    "last"
   ]
  },
  {
   "cell_type": "code",
   "execution_count": 6,
   "metadata": {},
   "outputs": [
    {
     "data": {
      "text/plain": [
       "(1, 148650, 3)"
      ]
     },
     "execution_count": 6,
     "metadata": {},
     "output_type": "execute_result"
    }
   ],
   "source": [
    "# number of atoms in last frame\n",
    "last.xyz.shape"
   ]
  },
  {
   "cell_type": "code",
   "execution_count": 7,
   "metadata": {},
   "outputs": [
    {
     "data": {
      "text/plain": [
       "6.606356"
      ]
     },
     "execution_count": 7,
     "metadata": {},
     "output_type": "execute_result"
    }
   ],
   "source": [
    "#mean of the all atom's co-ordinate\n",
    "import numpy as np\n",
    "np.mean(last.xyz)"
   ]
  },
  {
   "cell_type": "code",
   "execution_count": 8,
   "metadata": {},
   "outputs": [
    {
     "name": "stdout",
     "output_type": "stream",
     "text": [
      "[  0.  50. 100. 150. 200. 250. 300. 350. 400. 450.]\n"
     ]
    }
   ],
   "source": [
    "# timesteps of first 9 frames\n",
    "print(pa.time[0:10])"
   ]
  },
  {
   "cell_type": "code",
   "execution_count": 9,
   "metadata": {},
   "outputs": [],
   "source": [
    "# saving the last trajectpry of membrane\n",
    "last.save('last.h5')"
   ]
  },
  {
   "cell_type": "code",
   "execution_count": 10,
   "metadata": {},
   "outputs": [
    {
     "name": "stdout",
     "output_type": "stream",
     "text": [
      "<mdtraj.Trajectory with 1 frames, 148650 atoms, 37808 residues, and unitcells>\n"
     ]
    }
   ],
   "source": [
    "# importing the last frame\n",
    "traj = md.load('last.h5')\n",
    "print(traj)"
   ]
  },
  {
   "cell_type": "code",
   "execution_count": 11,
   "metadata": {},
   "outputs": [
    {
     "data": {
      "text/plain": [
       "148650"
      ]
     },
     "execution_count": 11,
     "metadata": {},
     "output_type": "execute_result"
    }
   ],
   "source": [
    "traj.n_atoms"
   ]
  },
  {
   "cell_type": "code",
   "execution_count": 12,
   "metadata": {},
   "outputs": [
    {
     "data": {
      "text/plain": [
       "37808"
      ]
     },
     "execution_count": 12,
     "metadata": {},
     "output_type": "execute_result"
    }
   ],
   "source": [
    "# How many residues we have?\n",
    "traj.n_residues"
   ]
  },
  {
   "cell_type": "code",
   "execution_count": 13,
   "metadata": {},
   "outputs": [
    {
     "data": {
      "text/plain": [
       "array([[[ 5.407    ,  3.344    , 13.716001 ],\n",
       "        [ 5.335    ,  3.2860003, 13.637001 ],\n",
       "        [ 5.3640003,  3.3460002, 13.861001 ],\n",
       "        ...,\n",
       "        [ 0.629    ,  7.6780005,  5.038    ],\n",
       "        [ 4.9280005,  7.221    ,  1.8560001],\n",
       "        [ 7.4360003,  3.7000003,  3.9900002]],\n",
       "\n",
       "       [[ 5.4240003,  3.3300002, 13.748001 ],\n",
       "        [ 5.359    ,  3.2470002, 13.683001 ],\n",
       "        [ 5.3880005,  3.338    , 13.895    ],\n",
       "        ...,\n",
       "        [ 1.4030001,  8.082001 ,  4.2720003],\n",
       "        [ 5.445    ,  7.0730004,  2.329    ],\n",
       "        [ 7.2960005,  3.187    ,  2.9280002]],\n",
       "\n",
       "       [[ 5.374    ,  3.3090003, 13.784    ],\n",
       "        [ 5.3380003,  3.216    , 13.710001 ],\n",
       "        [ 5.3250003,  3.3260002, 13.920001 ],\n",
       "        ...,\n",
       "        [ 1.1      ,  8.21     ,  4.5990005],\n",
       "        [ 5.885    ,  6.464    ,  2.046    ],\n",
       "        [ 6.669    ,  3.88     ,  3.7180002]],\n",
       "\n",
       "       ...,\n",
       "\n",
       "       [[ 5.3570004,  3.3720002, 13.736001 ],\n",
       "        [ 5.3110003,  3.279    , 13.676001 ],\n",
       "        [ 5.3310003,  3.3790002, 13.882001 ],\n",
       "        ...,\n",
       "        [ 2.651    ,  7.097    ,  7.2580004],\n",
       "        [ 1.095    ,  6.0140004,  2.4950001],\n",
       "        [ 7.3940005,  7.214    ,  6.867    ]],\n",
       "\n",
       "       [[ 5.386    ,  3.3630002, 13.705001 ],\n",
       "        [ 5.3180003,  3.292    , 13.6310005],\n",
       "        [ 5.3490005,  3.3760002, 13.853001 ],\n",
       "        ...,\n",
       "        [ 2.296    ,  6.7510004,  5.9500003],\n",
       "        [ 1.087    ,  6.229    ,  2.6490002],\n",
       "        [ 7.4140005,  7.7260003,  6.8700004]],\n",
       "\n",
       "       [[ 5.368    ,  3.354    , 13.735001 ],\n",
       "        [ 5.282    ,  3.2960002, 13.668    ],\n",
       "        [ 5.341    ,  3.3700001, 13.8810005],\n",
       "        ...,\n",
       "        [ 1.519    ,  7.5420003,  5.197    ],\n",
       "        [ 1.876    ,  5.7320004,  2.1550002],\n",
       "        [ 8.320001 ,  6.51     ,  6.3090005]]], dtype=float32)"
      ]
     },
     "execution_count": 13,
     "metadata": {},
     "output_type": "execute_result"
    }
   ],
   "source": [
    "# printing coordiantes \n",
    "import pandas as pd\n",
    "z = pa.xyz[:, :, :]\n",
    "z[2:, : , :]"
   ]
  },
  {
   "cell_type": "code",
   "execution_count": 14,
   "metadata": {},
   "outputs": [
    {
     "data": {
      "text/plain": [
       "array([[[False, False,  True],\n",
       "        [False, False,  True],\n",
       "        [False, False,  True],\n",
       "        ...,\n",
       "        [False, False, False],\n",
       "        [False, False, False],\n",
       "        [False, False, False]],\n",
       "\n",
       "       [[False, False,  True],\n",
       "        [False, False,  True],\n",
       "        [False, False,  True],\n",
       "        ...,\n",
       "        [False, False, False],\n",
       "        [False, False, False],\n",
       "        [False, False, False]],\n",
       "\n",
       "       [[False, False,  True],\n",
       "        [False, False,  True],\n",
       "        [False, False,  True],\n",
       "        ...,\n",
       "        [False, False, False],\n",
       "        [False, False, False],\n",
       "        [False, False, False]],\n",
       "\n",
       "       ...,\n",
       "\n",
       "       [[False, False,  True],\n",
       "        [False, False,  True],\n",
       "        [False, False,  True],\n",
       "        ...,\n",
       "        [False, False, False],\n",
       "        [False, False, False],\n",
       "        [False, False, False]],\n",
       "\n",
       "       [[False, False,  True],\n",
       "        [False, False,  True],\n",
       "        [False, False,  True],\n",
       "        ...,\n",
       "        [False, False, False],\n",
       "        [False, False, False],\n",
       "        [False, False, False]],\n",
       "\n",
       "       [[False, False,  True],\n",
       "        [False, False,  True],\n",
       "        [False, False,  True],\n",
       "        ...,\n",
       "        [False, False, False],\n",
       "        [False, False, False],\n",
       "        [False, False, False]]])"
      ]
     },
     "execution_count": 14,
     "metadata": {},
     "output_type": "execute_result"
    }
   ],
   "source": [
    "# atoms in the simulation box whom coordnates z is > 10\n",
    "z[2:, : , :] > 10"
   ]
  },
  {
   "cell_type": "code",
   "execution_count": 15,
   "metadata": {},
   "outputs": [],
   "source": [
    "# topology file is a different object containig atoms, residues, bonds etc. \n",
    "# creating out topology object of the membrane\n",
    "topology = traj.topology"
   ]
  },
  {
   "cell_type": "code",
   "execution_count": 16,
   "metadata": {},
   "outputs": [
    {
     "data": {
      "text/plain": [
       "<mdtraj.Topology with 1 chains, 37808 residues, 148650 atoms, 0 bonds at 0x1f6d0f357c8>"
      ]
     },
     "execution_count": 16,
     "metadata": {},
     "output_type": "execute_result"
    }
   ],
   "source": [
    "topology"
   ]
  },
  {
   "cell_type": "code",
   "execution_count": 17,
   "metadata": {},
   "outputs": [
    {
     "data": {
      "text/plain": [
       "HHY1-H8A"
      ]
     },
     "execution_count": 17,
     "metadata": {},
     "output_type": "execute_result"
    }
   ],
   "source": [
    "# no 5 atoms in the topology\n",
    "atom = topology.atom(5)\n",
    "atom"
   ]
  },
  {
   "cell_type": "code",
   "execution_count": 18,
   "metadata": {},
   "outputs": [
    {
     "data": {
      "text/plain": [
       "[HHY1-C4A, HHY1-O2A, HHY1-C2A, HHY1-C1A, HHY1-C3A]"
      ]
     },
     "execution_count": 18,
     "metadata": {},
     "output_type": "execute_result"
    }
   ],
   "source": [
    "# print all the atoms in topology\n",
    "B = [atom for atom in topology.atoms]\n",
    "B[:5]"
   ]
  },
  {
   "cell_type": "code",
   "execution_count": 19,
   "metadata": {},
   "outputs": [
    {
     "name": "stdout",
     "output_type": "stream",
     "text": [
      "Second residue: HHY2\n"
     ]
    }
   ],
   "source": [
    "# Same with residues, try looking specific or all residues\n",
    "print('Second residue: %s' % traj.topology.residue(1))"
   ]
  },
  {
   "cell_type": "code",
   "execution_count": 20,
   "metadata": {},
   "outputs": [
    {
     "data": {
      "text/plain": [
       "5"
      ]
     },
     "execution_count": 20,
     "metadata": {},
     "output_type": "execute_result"
    }
   ],
   "source": [
    "# what's the index of our atom?\n",
    "atom.index"
   ]
  },
  {
   "cell_type": "code",
   "execution_count": 21,
   "metadata": {},
   "outputs": [],
   "source": [
    "# serial number?\n",
    "atom.serial"
   ]
  },
  {
   "cell_type": "code",
   "execution_count": 22,
   "metadata": {},
   "outputs": [
    {
     "data": {
      "text/plain": [
       "'H8A'"
      ]
     },
     "execution_count": 22,
     "metadata": {},
     "output_type": "execute_result"
    }
   ],
   "source": [
    "# This atom probably a hydrogen inside membrane\n",
    "atom.name"
   ]
  },
  {
   "cell_type": "code",
   "execution_count": 23,
   "metadata": {},
   "outputs": [
    {
     "data": {
      "text/plain": [
       "HHY1"
      ]
     },
     "execution_count": 23,
     "metadata": {},
     "output_type": "execute_result"
    }
   ],
   "source": [
    "atom.residue"
   ]
  },
  {
   "cell_type": "code",
   "execution_count": 24,
   "metadata": {},
   "outputs": [],
   "source": [
    "# exploring specific residue\n",
    "residue = topology.residue(10)"
   ]
  },
  {
   "cell_type": "code",
   "execution_count": 25,
   "metadata": {},
   "outputs": [
    {
     "data": {
      "text/plain": [
       "HHY9"
      ]
     },
     "execution_count": 25,
     "metadata": {},
     "output_type": "execute_result"
    }
   ],
   "source": [
    "residue"
   ]
  },
  {
   "cell_type": "code",
   "execution_count": 26,
   "metadata": {},
   "outputs": [
    {
     "data": {
      "text/plain": [
       "9"
      ]
     },
     "execution_count": 26,
     "metadata": {},
     "output_type": "execute_result"
    }
   ],
   "source": [
    "residue.resSeq"
   ]
  },
  {
   "cell_type": "code",
   "execution_count": 27,
   "metadata": {},
   "outputs": [
    {
     "name": "stdout",
     "output_type": "stream",
     "text": [
      "[96181, 96182, 96348, 96349, 96360, 96379, 96431, 96446, 96484, 96613, 96614, 96624, 96636, 96670, 96682, 96701, 96723, 96739, 96777, 96789, 96805, 96806, 96823, 96833, 96849, 96850, 96866, 96930, 96963, 96976, 97070, 97084, 97085, 97125, 97161, 97197, 97240, 97296, 97355, 97366, 97378, 97379, 97407, 97432, 97460, 97572, 97584, 97585, 97603, 97641, 97763, 97838, 97854, 97855, 97885, 98028]\n"
     ]
    }
   ],
   "source": [
    "# index of all the atoms in the topology which is oxygen also inside the sidechain of the protein\n",
    "print([atom.index for atom in topology.atoms if atom.element.symbol is 'O' and atom.is_sidechain])"
   ]
  },
  {
   "cell_type": "code",
   "execution_count": 28,
   "metadata": {},
   "outputs": [
    {
     "data": {
      "text/plain": [
       "array([4724, 4725, 4726, 4727, 4728, 4729, 4730, 4731, 4732, 4733, 4734,\n",
       "       4735, 4736, 4737])"
      ]
     },
     "execution_count": 28,
     "metadata": {},
     "output_type": "execute_result"
    }
   ],
   "source": [
    "topology.select('resid 33')"
   ]
  },
  {
   "cell_type": "code",
   "execution_count": 29,
   "metadata": {},
   "outputs": [
    {
     "name": "stdout",
     "output_type": "stream",
     "text": [
      "[96069 96093 96109 96129 96136 96160 96170 96185 96204 96214 96224 96234\n",
      " 96251 96273 96297 96314 96321 96340 96352 96366 96387 96411 96418 96439\n",
      " 96450 96469 96476 96490 96514 96530 96540 96550 96560 96582 96602 96617\n",
      " 96628 96642 96662 96676 96690 96707 96717 96731 96745 96769 96783 96797\n",
      " 96809 96816 96827 96841 96853 96874 96881 96900 96919 96936 96955 96969\n",
      " 96980 97004 97028 97052 97062 97076 97088 97095 97119 97133 97147 97154\n",
      " 97165 97189 97203 97222 97232 97246 97265 97279 97289 97300 97310 97329\n",
      " 97348 97359 97370 97382 97401 97415 97425 97436 97452 97466 97476 97486\n",
      " 97508 97530 97549 97565 97576 97588 97595 97609 97616 97633 97647 97657\n",
      " 97681 97697 97707 97731 97755 97769 97793 97803 97825 97832 97846 97858\n",
      " 97874 97891 97901 97925 97944 97968 97975 97985 98009]\n"
     ]
    }
   ],
   "source": [
    "print(topology.select('name N and backbone'))"
   ]
  },
  {
   "cell_type": "code",
   "execution_count": 30,
   "metadata": {},
   "outputs": [
    {
     "name": "stdout",
     "output_type": "stream",
     "text": [
      "[atom.index for atom in topology.atoms if ((atom.name == 'CA') and (1 <= atom.residue.index <= 2))]\n"
     ]
    }
   ],
   "source": [
    "selection = topology.select_expression('name CA and resid 1 to 2')\n",
    "print(selection)"
   ]
  },
  {
   "cell_type": "code",
   "execution_count": 31,
   "metadata": {},
   "outputs": [],
   "source": [
    "from __future__ import print_function\n",
    "%matplotlib inline\n",
    "import mdtraj as md\n",
    "import numpy as np"
   ]
  },
  {
   "cell_type": "code",
   "execution_count": 32,
   "metadata": {},
   "outputs": [],
   "source": [
    "# investigating the corona virus protein\n",
    "\n",
    "t = md.load('6lu7.pdb')"
   ]
  },
  {
   "cell_type": "code",
   "execution_count": 33,
   "metadata": {},
   "outputs": [
    {
     "data": {
      "text/plain": [
       "<mdtraj.Topology with 3 chains, 395 residues, 2499 atoms, 2472 bonds at 0x1f6d08e3bc8>"
      ]
     },
     "execution_count": 33,
     "metadata": {},
     "output_type": "execute_result"
    }
   ],
   "source": [
    "t.topology"
   ]
  },
  {
   "cell_type": "code",
   "execution_count": 34,
   "metadata": {},
   "outputs": [],
   "source": [
    "pa = md.load('traj.xtc', top='conf.gro')"
   ]
  },
  {
   "cell_type": "code",
   "execution_count": 35,
   "metadata": {},
   "outputs": [
    {
     "name": "stdout",
     "output_type": "stream",
     "text": [
      "<mdtraj.Topology with 1 chains, 37808 residues, 148650 atoms, 0 bonds>\n"
     ]
    }
   ],
   "source": [
    "topology = pa.topology\n",
    "print(topology)"
   ]
  },
  {
   "cell_type": "code",
   "execution_count": 36,
   "metadata": {},
   "outputs": [],
   "source": [
    "prot = [atom for atom in topology.atoms if atom.residue.is_protein]"
   ]
  },
  {
   "cell_type": "code",
   "execution_count": 37,
   "metadata": {},
   "outputs": [
    {
     "data": {
      "text/plain": [
       "4291"
      ]
     },
     "execution_count": 37,
     "metadata": {},
     "output_type": "execute_result"
    }
   ],
   "source": [
    "len(prot)"
   ]
  },
  {
   "cell_type": "code",
   "execution_count": 38,
   "metadata": {},
   "outputs": [
    {
     "data": {
      "text/plain": [
       "[MAA13-N2A, MAA13-HXA, MAA13-C6A, MAA13-C1A, MAA13-H4A]"
      ]
     },
     "execution_count": 38,
     "metadata": {},
     "output_type": "execute_result"
    }
   ],
   "source": [
    "prot[:5]"
   ]
  },
  {
   "cell_type": "code",
   "execution_count": 39,
   "metadata": {},
   "outputs": [],
   "source": [
    "from __future__ import print_function\n",
    "%matplotlib inline\n",
    "import matplotlib.pyplot as plt\n",
    "import itertools\n",
    "import mdtraj.testing\n"
   ]
  },
  {
   "cell_type": "code",
   "execution_count": 40,
   "metadata": {},
   "outputs": [
    {
     "name": "stdout",
     "output_type": "stream",
     "text": [
      "<mdtraj.Trajectory with 20 frames, 423 atoms, 28 residues, without unitcells>\n"
     ]
    },
    {
     "name": "stderr",
     "output_type": "stream",
     "text": [
      "C:\\Users\\Symon\\Miniconda3\\lib\\site-packages\\mdtraj\\formats\\pdb\\pdbfile.py:198: UserWarning: Unlikely unit cell vectors detected in PDB file likely resulting from a dummy CRYST1 record. Discarding unit cell vectors.\n",
      "  'cell vectors.', category=UserWarning)\n"
     ]
    }
   ],
   "source": [
    "t = md.load_pdb('http://www.rcsb.org/pdb/files/2EQQ.pdb')\n",
    "print(t)"
   ]
  },
  {
   "cell_type": "code",
   "execution_count": 41,
   "metadata": {},
   "outputs": [
    {
     "name": "stdout",
     "output_type": "stream",
     "text": [
      "GLU1-N -- GLU1-OE2\n",
      "GLU1-N -- GLU1-OE1\n",
      "GLY6-N -- SER4-O\n",
      "CYS7-N -- GLY5-O\n",
      "TYR11-N -- VAL8-O\n",
      "MET12-N -- LYS20-O\n",
      "ARG13-NH1 -- TYR11-O\n",
      "THR14-N -- ARG18-O\n",
      "ASP16-N -- ASP16-OD1\n",
      "GLY17-N -- THR14-O\n",
      "ARG18-N -- THR14-OG1\n",
      "ARG18-NE -- ASP16-OD2\n",
      "LYS20-N -- MET12-O\n",
      "THR22-N -- GLY10-O\n",
      "THR14-OG1 -- ASP16-OD1\n",
      "THR28-OG1 -- ILE27-O\n"
     ]
    }
   ],
   "source": [
    "# let's calculate how many hydrogen bonds we have \n",
    "\n",
    "hbonds = md.baker_hubbard(t, periodic=False)\n",
    "label = lambda hbond : '%s -- %s' % (t.topology.atom(hbond[0]), t.topology.atom(hbond[2]))\n",
    "for hbond in hbonds:\n",
    "    print(label(hbond))"
   ]
  },
  {
   "cell_type": "code",
   "execution_count": 42,
   "metadata": {},
   "outputs": [],
   "source": [
    "da_distances = md.compute_distances(t, hbonds[:, [0,2]], periodic=False)"
   ]
  },
  {
   "cell_type": "code",
   "execution_count": 43,
   "metadata": {},
   "outputs": [
    {
     "data": {
      "text/plain": [
       "Text(0.5, 0, 'Donor-acceptor distance [nm]')"
      ]
     },
     "execution_count": 43,
     "metadata": {},
     "output_type": "execute_result"
    },
    {
     "data": {
      "image/png": "[encoded data removed]",
      "text/plain": [
       "<Figure size 432x288 with 1 Axes>"
      ]
     },
     "metadata": {
      "needs_background": "light"
     },
     "output_type": "display_data"
    }
   ],
   "source": [
    "color = itertools.cycle(['r', 'b', 'gold'])\n",
    "for i in [2, 3, 4]:\n",
    "    plt.hist(da_distances[:, i], color=next(color), label=label(hbonds[i]), alpha=0.5)\n",
    "plt.legend()\n",
    "plt.ylabel('Freq');\n",
    "plt.xlabel('Donor-acceptor distance [nm]')"
   ]
  },
  {
   "cell_type": "code",
   "execution_count": 44,
   "metadata": {},
   "outputs": [],
   "source": [
    "# calculate the native contacts \n",
    "\n",
    "from itertools import combinations\n",
    "\n",
    "def best_hummer_q(traj, native):\n",
    "  \n",
    "    \n",
    "    BETA_CONST = 50  # 1/nm\n",
    "    LAMBDA_CONST = 1.8\n",
    "    NATIVE_CUTOFF = 0.45  # nanometers\n",
    "    \n",
    "    # get the indices of all of the heavy atoms\n",
    "    heavy = native.topology.select_atom_indices('heavy')\n",
    "    # get the pairs of heavy atoms which are farther than 3\n",
    "    # residues apart\n",
    "    heavy_pairs = np.array(\n",
    "        [(i,j) for (i,j) in combinations(heavy, 2)\n",
    "            if abs(native.topology.atom(i).residue.index - \\\n",
    "                   native.topology.atom(j).residue.index) > 3])\n",
    "    \n",
    "    # compute the distances between these pairs in the native state\n",
    "    heavy_pairs_distances = md.compute_distances(native[0], heavy_pairs)[0]\n",
    "    # and get the pairs s.t. the distance is less than NATIVE_CUTOFF\n",
    "    native_contacts = heavy_pairs[heavy_pairs_distances < NATIVE_CUTOFF]\n",
    "    print(\"Number of native contacts\", len(native_contacts))\n",
    "    \n",
    "    # now compute these distances for the whole trajectory\n",
    "    r = md.compute_distances(traj, native_contacts)\n",
    "    # and recompute them for just the native state\n",
    "    r0 = md.compute_distances(native[0], native_contacts)\n",
    "    \n",
    "    q = np.mean(1.0 / (1 + np.exp(BETA_CONST * (r - LAMBDA_CONST * r0))), axis=1)\n",
    "    return q  "
   ]
  },
  {
   "cell_type": "code",
   "execution_count": 45,
   "metadata": {},
   "outputs": [
    {
     "name": "stdout",
     "output_type": "stream",
     "text": [
      "Number of native contacts 526\n"
     ]
    }
   ],
   "source": [
    "\n",
    "traj = md.load_pdb('http://www.rcsb.org/pdb/files/2MI7.pdb')\n",
    "\n",
    "q = best_hummer_q(traj, traj[0])"
   ]
  },
  {
   "cell_type": "code",
   "execution_count": 46,
   "metadata": {},
   "outputs": [
    {
     "data": {
      "image/png": "[encoded data removed]",
      "text/plain": [
       "<Figure size 432x288 with 1 Axes>"
      ]
     },
     "metadata": {
      "needs_background": "light"
     },
     "output_type": "display_data"
    }
   ],
   "source": [
    "%matplotlib inline\n",
    "import matplotlib.pyplot as plt\n",
    "plt.plot(q)\n",
    "plt.xlabel('Frame', fontsize=14)\n",
    "plt.ylabel('Q(X)', fontsize=14)\n",
    "plt.show()"
   ]
  },
  {
   "cell_type": "code",
   "execution_count": null,
   "metadata": {},
   "outputs": [],
   "source": []
  }
 ],
 "metadata": {
  "kernelspec": {
   "display_name": "Python 3",
   "language": "python",
   "name": "python3"
  },
  "language_info": {
   "codemirror_mode": {
    "name": "ipython",
    "version": 3
   },
   "file_extension": ".py",
   "mimetype": "text/x-python",
   "name": "python",
   "nbconvert_exporter": "python",
   "pygments_lexer": "ipython3",
   "version": "3.7.4"
  }
 },
 "nbformat": 4,
 "nbformat_minor": 4
}
